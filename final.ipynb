{
 "cells": [
  {
   "cell_type": "code",
   "execution_count": 1,
   "metadata": {},
   "outputs": [],
   "source": [
    "import pandas as pd\n",
    "import numpy as np"
   ]
  },
  {
   "cell_type": "code",
   "execution_count": 2,
   "metadata": {},
   "outputs": [],
   "source": [
    "df = pd.read_csv('act.csv')"
   ]
  },
  {
   "cell_type": "code",
   "execution_count": 3,
   "metadata": {},
   "outputs": [
    {
     "data": {
      "text/plain": [
       "Index(['Unnamed: 0', 'Unnamed: 0.1', 'Id', 'MARITAL', 'RACE', 'ETHNICITY',\n",
       "       'GENDER', 'BIRTHPLACE', 'HEALTHCARE_EXPENSES', 'HEALTHCARE_COVERAGE',\n",
       "       'Age', 'Alive', 'Condition_CODE', 'Condition_DESCRIPTION',\n",
       "       'Condition_Time', 'ENCOUNTERCLASS', 'BASE_ENCOUNTER_COST',\n",
       "       'ENCOUNTER_TOTAL_CLAIM_COST', 'ENCOUNTER_PAYER_COVERAGE',\n",
       "       'Encounter_Time', 'MEDICATION_CODE', 'Medicine_DESCRIPTION',\n",
       "       'MEDICATION_BASE_COST', 'MEDICATION_PAYER_COVERAGE',\n",
       "       'MEDICATION_DISPENSES', 'MEDICATION_TOTALCOST', 'MEDICATION_REASONCODE',\n",
       "       'Medication_Time', 'PROCEDURE_CODE', 'Procedure_DESCRIPTION',\n",
       "       'PROCEDURE_BASE_COST', 'PROCEDURE_REASONCODE', 'adherence'],\n",
       "      dtype='object')"
      ]
     },
     "execution_count": 3,
     "metadata": {},
     "output_type": "execute_result"
    }
   ],
   "source": [
    "df.columns"
   ]
  },
  {
   "cell_type": "code",
   "execution_count": 4,
   "metadata": {},
   "outputs": [],
   "source": [
    "df.drop(['Condition_DESCRIPTION','Medicine_DESCRIPTION','Procedure_DESCRIPTION','PROCEDURE_REASONCODE'],axis=1,inplace=True)"
   ]
  },
  {
   "cell_type": "code",
   "execution_count": 5,
   "metadata": {},
   "outputs": [
    {
     "data": {
      "text/plain": [
       "Unnamed: 0                                                                    0\n",
       "Unnamed: 0.1                                                                  0\n",
       "Id                                         1d604da9-9a81-4ba9-80c2-de3375d59b40\n",
       "MARITAL                                                                       M\n",
       "RACE                                                                      white\n",
       "ETHNICITY                                                              hispanic\n",
       "GENDER                                                                        M\n",
       "BIRTHPLACE                                     Marigot  Saint Andrew Parish  DM\n",
       "HEALTHCARE_EXPENSES                                                   271227.08\n",
       "HEALTHCARE_COVERAGE                                                     1334.88\n",
       "Age                                                                          32\n",
       "Alive                                                                         1\n",
       "Condition_CODE                                                      [444814009]\n",
       "Condition_Time                                                     [0.08333333]\n",
       "ENCOUNTERCLASS                ['ambulatory' 'ambulatory' 'wellness' 'wellnes...\n",
       "BASE_ENCOUNTER_COST                 [129.16 129.16 129.16 129.16 129.16 129.16]\n",
       "ENCOUNTER_TOTAL_CLAIM_COST          [129.16 129.16 129.16 129.16 129.16 129.16]\n",
       "ENCOUNTER_PAYER_COVERAGE                                    [0. 0. 0. 0. 0. 0.]\n",
       "Encounter_Time                            [ 900.  900.  900. 1800.  900.  900.]\n",
       "MEDICATION_CODE                                                 [562251 562251]\n",
       "MEDICATION_BASE_COST                                              [11.91 29.89]\n",
       "MEDICATION_PAYER_COVERAGE                                               [0. 0.]\n",
       "MEDICATION_DISPENSES                                                      [1 1]\n",
       "MEDICATION_TOTALCOST                                              [11.91 29.89]\n",
       "MEDICATION_REASONCODE                           [4.44814009e+08 4.44814009e+08]\n",
       "Medication_Time                                     [365.          30.41666667]\n",
       "PROCEDURE_CODE                                                      [430193006]\n",
       "PROCEDURE_BASE_COST                                                    [416.69]\n",
       "adherence                                                                     0\n",
       "Name: 0, dtype: object"
      ]
     },
     "execution_count": 5,
     "metadata": {},
     "output_type": "execute_result"
    }
   ],
   "source": [
    "df.iloc[0,:]"
   ]
  },
  {
   "cell_type": "code",
   "execution_count": 6,
   "metadata": {},
   "outputs": [],
   "source": [
    "df.drop(['MEDICATION_REASONCODE'],axis=1,inplace=True)"
   ]
  },
  {
   "cell_type": "code",
   "execution_count": 7,
   "metadata": {},
   "outputs": [],
   "source": [
    "from sklearn import preprocessing"
   ]
  },
  {
   "cell_type": "code",
   "execution_count": 8,
   "metadata": {},
   "outputs": [],
   "source": [
    "label_encoder = preprocessing.LabelEncoder()"
   ]
  },
  {
   "cell_type": "code",
   "execution_count": 9,
   "metadata": {},
   "outputs": [],
   "source": [
    "df['PROCEDURE_CODE'] = label_encoder.fit_transform(df['PROCEDURE_CODE'])"
   ]
  },
  {
   "cell_type": "code",
   "execution_count": 10,
   "metadata": {},
   "outputs": [],
   "source": [
    "df['PROCEDURE_BASE_COST'] = label_encoder.fit_transform(df['PROCEDURE_BASE_COST'])\n",
    "df['Medication_Time'] = label_encoder.fit_transform(df['Medication_Time'])\n",
    "df['MEDICATION_TOTALCOST'] = label_encoder.fit_transform(df['MEDICATION_TOTALCOST'])\n",
    "df['MEDICATION_DISPENSES'] = label_encoder.fit_transform(df['MEDICATION_DISPENSES'])\n",
    "df['MEDICATION_PAYER_COVERAGE'] = label_encoder.fit_transform(df['MEDICATION_PAYER_COVERAGE'])\n",
    "df['MEDICATION_BASE_COST'] = label_encoder.fit_transform(df['MEDICATION_BASE_COST'])\n",
    "df['MEDICATION_CODE'] = label_encoder.fit_transform(df['MEDICATION_CODE'])\n",
    "df['Encounter_Time'] = label_encoder.fit_transform(df['Encounter_Time'])\n",
    "df['ENCOUNTER_PAYER_COVERAGE'] = label_encoder.fit_transform(df['ENCOUNTER_PAYER_COVERAGE'])\n",
    "df['ENCOUNTER_TOTAL_CLAIM_COST'] = label_encoder.fit_transform(df['ENCOUNTER_TOTAL_CLAIM_COST'])\n",
    "df['BASE_ENCOUNTER_COST'] = label_encoder.fit_transform(df['BASE_ENCOUNTER_COST'])\n",
    "df['ENCOUNTERCLASS'] = label_encoder.fit_transform(df['ENCOUNTERCLASS'])\n",
    "df['Condition_Time'] = label_encoder.fit_transform(df['Condition_Time'])\n",
    "df['Condition_CODE'] = label_encoder.fit_transform(df['Condition_CODE'])\n",
    "df['BIRTHPLACE'] = label_encoder.fit_transform(df['BIRTHPLACE'])\n",
    "df['ETHNICITY'] = label_encoder.fit_transform(df['ETHNICITY'])\n",
    "df['GENDER'] = label_encoder.fit_transform(df['GENDER'])\n",
    "df['RACE'] = label_encoder.fit_transform(df['RACE'])\n",
    "df['ETHNICITY'] = label_encoder.fit_transform(df['ETHNICITY'])\n",
    "df['MARITAL'] = label_encoder.fit_transform(df['MARITAL'])"
   ]
  },
  {
   "cell_type": "code",
   "execution_count": 11,
   "metadata": {},
   "outputs": [],
   "source": [
    "df.drop(['Id','Unnamed: 0','Unnamed: 0.1'],axis=1,inplace=True)"
   ]
  },
  {
   "cell_type": "code",
   "execution_count": 12,
   "metadata": {},
   "outputs": [],
   "source": [
    "import copy"
   ]
  },
  {
   "cell_type": "code",
   "execution_count": 13,
   "metadata": {},
   "outputs": [
    {
     "data": {
      "text/html": [
       "<div>\n",
       "<style scoped>\n",
       "    .dataframe tbody tr th:only-of-type {\n",
       "        vertical-align: middle;\n",
       "    }\n",
       "\n",
       "    .dataframe tbody tr th {\n",
       "        vertical-align: top;\n",
       "    }\n",
       "\n",
       "    .dataframe thead th {\n",
       "        text-align: right;\n",
       "    }\n",
       "</style>\n",
       "<table border=\"1\" class=\"dataframe\">\n",
       "  <thead>\n",
       "    <tr style=\"text-align: right;\">\n",
       "      <th></th>\n",
       "      <th>MARITAL</th>\n",
       "      <th>RACE</th>\n",
       "      <th>ETHNICITY</th>\n",
       "      <th>GENDER</th>\n",
       "      <th>BIRTHPLACE</th>\n",
       "      <th>HEALTHCARE_EXPENSES</th>\n",
       "      <th>HEALTHCARE_COVERAGE</th>\n",
       "      <th>Age</th>\n",
       "      <th>Alive</th>\n",
       "      <th>Condition_CODE</th>\n",
       "      <th>...</th>\n",
       "      <th>Encounter_Time</th>\n",
       "      <th>MEDICATION_CODE</th>\n",
       "      <th>MEDICATION_BASE_COST</th>\n",
       "      <th>MEDICATION_PAYER_COVERAGE</th>\n",
       "      <th>MEDICATION_DISPENSES</th>\n",
       "      <th>MEDICATION_TOTALCOST</th>\n",
       "      <th>Medication_Time</th>\n",
       "      <th>PROCEDURE_CODE</th>\n",
       "      <th>PROCEDURE_BASE_COST</th>\n",
       "      <th>adherence</th>\n",
       "    </tr>\n",
       "  </thead>\n",
       "  <tbody>\n",
       "    <tr>\n",
       "      <th>0</th>\n",
       "      <td>1</td>\n",
       "      <td>4</td>\n",
       "      <td>0</td>\n",
       "      <td>1</td>\n",
       "      <td>136</td>\n",
       "      <td>271227.08</td>\n",
       "      <td>1334.88</td>\n",
       "      <td>32</td>\n",
       "      <td>1</td>\n",
       "      <td>1024</td>\n",
       "      <td>...</td>\n",
       "      <td>430</td>\n",
       "      <td>151</td>\n",
       "      <td>90</td>\n",
       "      <td>56</td>\n",
       "      <td>65</td>\n",
       "      <td>88</td>\n",
       "      <td>316</td>\n",
       "      <td>914</td>\n",
       "      <td>890</td>\n",
       "      <td>0</td>\n",
       "    </tr>\n",
       "    <tr>\n",
       "      <th>1</th>\n",
       "      <td>1</td>\n",
       "      <td>4</td>\n",
       "      <td>1</td>\n",
       "      <td>1</td>\n",
       "      <td>61</td>\n",
       "      <td>793946.01</td>\n",
       "      <td>3204.49</td>\n",
       "      <td>37</td>\n",
       "      <td>1</td>\n",
       "      <td>603</td>\n",
       "      <td>...</td>\n",
       "      <td>790</td>\n",
       "      <td>126</td>\n",
       "      <td>626</td>\n",
       "      <td>57</td>\n",
       "      <td>159</td>\n",
       "      <td>746</td>\n",
       "      <td>298</td>\n",
       "      <td>914</td>\n",
       "      <td>1029</td>\n",
       "      <td>1</td>\n",
       "    </tr>\n",
       "    <tr>\n",
       "      <th>2</th>\n",
       "      <td>1</td>\n",
       "      <td>4</td>\n",
       "      <td>1</td>\n",
       "      <td>1</td>\n",
       "      <td>236</td>\n",
       "      <td>574111.90</td>\n",
       "      <td>2606.40</td>\n",
       "      <td>29</td>\n",
       "      <td>1</td>\n",
       "      <td>901</td>\n",
       "      <td>...</td>\n",
       "      <td>481</td>\n",
       "      <td>196</td>\n",
       "      <td>580</td>\n",
       "      <td>56</td>\n",
       "      <td>65</td>\n",
       "      <td>673</td>\n",
       "      <td>49</td>\n",
       "      <td>622</td>\n",
       "      <td>545</td>\n",
       "      <td>0</td>\n",
       "    </tr>\n",
       "    <tr>\n",
       "      <th>3</th>\n",
       "      <td>1</td>\n",
       "      <td>4</td>\n",
       "      <td>1</td>\n",
       "      <td>0</td>\n",
       "      <td>291</td>\n",
       "      <td>935630.30</td>\n",
       "      <td>8756.19</td>\n",
       "      <td>43</td>\n",
       "      <td>1</td>\n",
       "      <td>935</td>\n",
       "      <td>...</td>\n",
       "      <td>652</td>\n",
       "      <td>10</td>\n",
       "      <td>664</td>\n",
       "      <td>55</td>\n",
       "      <td>118</td>\n",
       "      <td>862</td>\n",
       "      <td>309</td>\n",
       "      <td>559</td>\n",
       "      <td>552</td>\n",
       "      <td>1</td>\n",
       "    </tr>\n",
       "    <tr>\n",
       "      <th>4</th>\n",
       "      <td>0</td>\n",
       "      <td>4</td>\n",
       "      <td>1</td>\n",
       "      <td>1</td>\n",
       "      <td>189</td>\n",
       "      <td>598763.07</td>\n",
       "      <td>3772.20</td>\n",
       "      <td>25</td>\n",
       "      <td>1</td>\n",
       "      <td>832</td>\n",
       "      <td>...</td>\n",
       "      <td>686</td>\n",
       "      <td>126</td>\n",
       "      <td>631</td>\n",
       "      <td>57</td>\n",
       "      <td>159</td>\n",
       "      <td>749</td>\n",
       "      <td>336</td>\n",
       "      <td>914</td>\n",
       "      <td>1015</td>\n",
       "      <td>1</td>\n",
       "    </tr>\n",
       "    <tr>\n",
       "      <th>...</th>\n",
       "      <td>...</td>\n",
       "      <td>...</td>\n",
       "      <td>...</td>\n",
       "      <td>...</td>\n",
       "      <td>...</td>\n",
       "      <td>...</td>\n",
       "      <td>...</td>\n",
       "      <td>...</td>\n",
       "      <td>...</td>\n",
       "      <td>...</td>\n",
       "      <td>...</td>\n",
       "      <td>...</td>\n",
       "      <td>...</td>\n",
       "      <td>...</td>\n",
       "      <td>...</td>\n",
       "      <td>...</td>\n",
       "      <td>...</td>\n",
       "      <td>...</td>\n",
       "      <td>...</td>\n",
       "      <td>...</td>\n",
       "      <td>...</td>\n",
       "    </tr>\n",
       "    <tr>\n",
       "      <th>1167</th>\n",
       "      <td>1</td>\n",
       "      <td>0</td>\n",
       "      <td>0</td>\n",
       "      <td>0</td>\n",
       "      <td>112</td>\n",
       "      <td>1622314.87</td>\n",
       "      <td>32086.31</td>\n",
       "      <td>99</td>\n",
       "      <td>1</td>\n",
       "      <td>121</td>\n",
       "      <td>...</td>\n",
       "      <td>872</td>\n",
       "      <td>138</td>\n",
       "      <td>366</td>\n",
       "      <td>79</td>\n",
       "      <td>318</td>\n",
       "      <td>238</td>\n",
       "      <td>281</td>\n",
       "      <td>304</td>\n",
       "      <td>841</td>\n",
       "      <td>0</td>\n",
       "    </tr>\n",
       "    <tr>\n",
       "      <th>1168</th>\n",
       "      <td>2</td>\n",
       "      <td>4</td>\n",
       "      <td>1</td>\n",
       "      <td>1</td>\n",
       "      <td>255</td>\n",
       "      <td>979724.25</td>\n",
       "      <td>3130.52</td>\n",
       "      <td>44</td>\n",
       "      <td>1</td>\n",
       "      <td>1011</td>\n",
       "      <td>...</td>\n",
       "      <td>524</td>\n",
       "      <td>194</td>\n",
       "      <td>280</td>\n",
       "      <td>57</td>\n",
       "      <td>159</td>\n",
       "      <td>308</td>\n",
       "      <td>336</td>\n",
       "      <td>912</td>\n",
       "      <td>892</td>\n",
       "      <td>1</td>\n",
       "    </tr>\n",
       "    <tr>\n",
       "      <th>1169</th>\n",
       "      <td>2</td>\n",
       "      <td>4</td>\n",
       "      <td>1</td>\n",
       "      <td>0</td>\n",
       "      <td>76</td>\n",
       "      <td>1560540.35</td>\n",
       "      <td>52391.24</td>\n",
       "      <td>107</td>\n",
       "      <td>0</td>\n",
       "      <td>176</td>\n",
       "      <td>...</td>\n",
       "      <td>52</td>\n",
       "      <td>213</td>\n",
       "      <td>247</td>\n",
       "      <td>57</td>\n",
       "      <td>80</td>\n",
       "      <td>301</td>\n",
       "      <td>313</td>\n",
       "      <td>503</td>\n",
       "      <td>174</td>\n",
       "      <td>1</td>\n",
       "    </tr>\n",
       "    <tr>\n",
       "      <th>1170</th>\n",
       "      <td>1</td>\n",
       "      <td>4</td>\n",
       "      <td>1</td>\n",
       "      <td>0</td>\n",
       "      <td>236</td>\n",
       "      <td>1375833.47</td>\n",
       "      <td>13157.00</td>\n",
       "      <td>107</td>\n",
       "      <td>0</td>\n",
       "      <td>170</td>\n",
       "      <td>...</td>\n",
       "      <td>1149</td>\n",
       "      <td>76</td>\n",
       "      <td>366</td>\n",
       "      <td>57</td>\n",
       "      <td>202</td>\n",
       "      <td>833</td>\n",
       "      <td>260</td>\n",
       "      <td>75</td>\n",
       "      <td>359</td>\n",
       "      <td>1</td>\n",
       "    </tr>\n",
       "    <tr>\n",
       "      <th>1171</th>\n",
       "      <td>1</td>\n",
       "      <td>4</td>\n",
       "      <td>1</td>\n",
       "      <td>0</td>\n",
       "      <td>289</td>\n",
       "      <td>1510158.34</td>\n",
       "      <td>26565.65</td>\n",
       "      <td>107</td>\n",
       "      <td>1</td>\n",
       "      <td>1063</td>\n",
       "      <td>...</td>\n",
       "      <td>514</td>\n",
       "      <td>0</td>\n",
       "      <td>0</td>\n",
       "      <td>0</td>\n",
       "      <td>0</td>\n",
       "      <td>0</td>\n",
       "      <td>0</td>\n",
       "      <td>417</td>\n",
       "      <td>864</td>\n",
       "      <td>0</td>\n",
       "    </tr>\n",
       "  </tbody>\n",
       "</table>\n",
       "<p>1172 rows × 25 columns</p>\n",
       "</div>"
      ],
      "text/plain": [
       "      MARITAL  RACE  ETHNICITY  GENDER  BIRTHPLACE  HEALTHCARE_EXPENSES  \\\n",
       "0           1     4          0       1         136            271227.08   \n",
       "1           1     4          1       1          61            793946.01   \n",
       "2           1     4          1       1         236            574111.90   \n",
       "3           1     4          1       0         291            935630.30   \n",
       "4           0     4          1       1         189            598763.07   \n",
       "...       ...   ...        ...     ...         ...                  ...   \n",
       "1167        1     0          0       0         112           1622314.87   \n",
       "1168        2     4          1       1         255            979724.25   \n",
       "1169        2     4          1       0          76           1560540.35   \n",
       "1170        1     4          1       0         236           1375833.47   \n",
       "1171        1     4          1       0         289           1510158.34   \n",
       "\n",
       "      HEALTHCARE_COVERAGE  Age  Alive  Condition_CODE  ...  Encounter_Time  \\\n",
       "0                 1334.88   32      1            1024  ...             430   \n",
       "1                 3204.49   37      1             603  ...             790   \n",
       "2                 2606.40   29      1             901  ...             481   \n",
       "3                 8756.19   43      1             935  ...             652   \n",
       "4                 3772.20   25      1             832  ...             686   \n",
       "...                   ...  ...    ...             ...  ...             ...   \n",
       "1167             32086.31   99      1             121  ...             872   \n",
       "1168              3130.52   44      1            1011  ...             524   \n",
       "1169             52391.24  107      0             176  ...              52   \n",
       "1170             13157.00  107      0             170  ...            1149   \n",
       "1171             26565.65  107      1            1063  ...             514   \n",
       "\n",
       "      MEDICATION_CODE  MEDICATION_BASE_COST  MEDICATION_PAYER_COVERAGE  \\\n",
       "0                 151                    90                         56   \n",
       "1                 126                   626                         57   \n",
       "2                 196                   580                         56   \n",
       "3                  10                   664                         55   \n",
       "4                 126                   631                         57   \n",
       "...               ...                   ...                        ...   \n",
       "1167              138                   366                         79   \n",
       "1168              194                   280                         57   \n",
       "1169              213                   247                         57   \n",
       "1170               76                   366                         57   \n",
       "1171                0                     0                          0   \n",
       "\n",
       "      MEDICATION_DISPENSES  MEDICATION_TOTALCOST  Medication_Time  \\\n",
       "0                       65                    88              316   \n",
       "1                      159                   746              298   \n",
       "2                       65                   673               49   \n",
       "3                      118                   862              309   \n",
       "4                      159                   749              336   \n",
       "...                    ...                   ...              ...   \n",
       "1167                   318                   238              281   \n",
       "1168                   159                   308              336   \n",
       "1169                    80                   301              313   \n",
       "1170                   202                   833              260   \n",
       "1171                     0                     0                0   \n",
       "\n",
       "      PROCEDURE_CODE  PROCEDURE_BASE_COST  adherence  \n",
       "0                914                  890          0  \n",
       "1                914                 1029          1  \n",
       "2                622                  545          0  \n",
       "3                559                  552          1  \n",
       "4                914                 1015          1  \n",
       "...              ...                  ...        ...  \n",
       "1167             304                  841          0  \n",
       "1168             912                  892          1  \n",
       "1169             503                  174          1  \n",
       "1170              75                  359          1  \n",
       "1171             417                  864          0  \n",
       "\n",
       "[1172 rows x 25 columns]"
      ]
     },
     "execution_count": 13,
     "metadata": {},
     "output_type": "execute_result"
    }
   ],
   "source": [
    "df"
   ]
  },
  {
   "cell_type": "code",
   "execution_count": 14,
   "metadata": {},
   "outputs": [],
   "source": [
    "df1 = copy.deepcopy(df)"
   ]
  },
  {
   "cell_type": "code",
   "execution_count": 15,
   "metadata": {},
   "outputs": [],
   "source": [
    "data = df1.values\n",
    "X,Y  = data[:,:-1],data[:,-1]"
   ]
  },
  {
   "cell_type": "code",
   "execution_count": 16,
   "metadata": {},
   "outputs": [],
   "source": [
    "from sklearn.model_selection import train_test_split"
   ]
  },
  {
   "cell_type": "code",
   "execution_count": 17,
   "metadata": {},
   "outputs": [],
   "source": [
    "X_train,X_test,Y_train,Y_test = train_test_split(X,Y,test_size=0.10)"
   ]
  },
  {
   "cell_type": "code",
   "execution_count": 18,
   "metadata": {},
   "outputs": [],
   "source": [
    "import sklearn.ensemble\n"
   ]
  },
  {
   "cell_type": "code",
   "execution_count": 19,
   "metadata": {},
   "outputs": [],
   "source": [
    "model1 = sklearn.ensemble.RandomForestClassifier()"
   ]
  },
  {
   "cell_type": "code",
   "execution_count": 21,
   "metadata": {},
   "outputs": [
    {
     "data": {
      "text/plain": [
       "RandomForestClassifier()"
      ]
     },
     "execution_count": 21,
     "metadata": {},
     "output_type": "execute_result"
    }
   ],
   "source": [
    "model1.fit(X_train,Y_train)"
   ]
  },
  {
   "cell_type": "code",
   "execution_count": 26,
   "metadata": {},
   "outputs": [
    {
     "data": {
      "text/plain": [
       "0.4830508474576271"
      ]
     },
     "execution_count": 26,
     "metadata": {},
     "output_type": "execute_result"
    }
   ],
   "source": [
    "model1.score(X_test,Y_test)"
   ]
  },
  {
   "cell_type": "code",
   "execution_count": 28,
   "metadata": {},
   "outputs": [],
   "source": [
    "from sklearn.svm import SVC"
   ]
  },
  {
   "cell_type": "code",
   "execution_count": 29,
   "metadata": {},
   "outputs": [],
   "source": [
    "model2 = SVC()"
   ]
  },
  {
   "cell_type": "code",
   "execution_count": 30,
   "metadata": {},
   "outputs": [
    {
     "data": {
      "text/plain": [
       "SVC()"
      ]
     },
     "execution_count": 30,
     "metadata": {},
     "output_type": "execute_result"
    }
   ],
   "source": [
    "model2.fit(X_train,Y_train)"
   ]
  },
  {
   "cell_type": "code",
   "execution_count": 31,
   "metadata": {},
   "outputs": [
    {
     "data": {
      "text/plain": [
       "0.5169491525423728"
      ]
     },
     "execution_count": 31,
     "metadata": {},
     "output_type": "execute_result"
    }
   ],
   "source": [
    "model2.score(X_test,Y_test)"
   ]
  },
  {
   "cell_type": "code",
   "execution_count": 32,
   "metadata": {},
   "outputs": [],
   "source": [
    "from sklearn.linear_model import LogisticRegression"
   ]
  },
  {
   "cell_type": "code",
   "execution_count": 33,
   "metadata": {},
   "outputs": [],
   "source": [
    "model3 = LogisticRegression()"
   ]
  },
  {
   "cell_type": "code",
   "execution_count": 34,
   "metadata": {},
   "outputs": [
    {
     "data": {
      "text/plain": [
       "LogisticRegression()"
      ]
     },
     "execution_count": 34,
     "metadata": {},
     "output_type": "execute_result"
    }
   ],
   "source": [
    "model3.fit(X_train,Y_train)"
   ]
  },
  {
   "cell_type": "code",
   "execution_count": 35,
   "metadata": {},
   "outputs": [
    {
     "data": {
      "text/plain": [
       "0.5508474576271186"
      ]
     },
     "execution_count": 35,
     "metadata": {},
     "output_type": "execute_result"
    }
   ],
   "source": [
    "model3.score(X_test,Y_test)"
   ]
  },
  {
   "cell_type": "code",
   "execution_count": 36,
   "metadata": {},
   "outputs": [],
   "source": [
    "sum = model3.predict_proba(X)"
   ]
  },
  {
   "cell_type": "code",
   "execution_count": 37,
   "metadata": {},
   "outputs": [
    {
     "data": {
      "text/plain": [
       "array([[0.4805315 , 0.5194685 ],\n",
       "       [0.5661632 , 0.4338368 ],\n",
       "       [0.54958256, 0.45041744],\n",
       "       ...,\n",
       "       [0.47417214, 0.52582786],\n",
       "       [0.50756272, 0.49243728],\n",
       "       [0.5497562 , 0.4502438 ]])"
      ]
     },
     "execution_count": 37,
     "metadata": {},
     "output_type": "execute_result"
    }
   ],
   "source": [
    "sum"
   ]
  },
  {
   "cell_type": "code",
   "execution_count": 48,
   "metadata": {},
   "outputs": [],
   "source": [
    "probs = []\n",
    "for i in range(len(sum)):\n",
    "    probs.append(sum[i,1])\n"
   ]
  },
  {
   "cell_type": "code",
   "execution_count": 49,
   "metadata": {},
   "outputs": [],
   "source": [
    "probs\n",
    "max1 = max(probs)\n",
    "min1 = min(probs)\n",
    "probs = (probs-min1)/(max1-min1)"
   ]
  },
  {
   "cell_type": "code",
   "execution_count": 50,
   "metadata": {},
   "outputs": [
    {
     "data": {
      "text/plain": [
       "array([0.6047732 , 0.32301312, 0.37756959, ..., 0.62569785, 0.51583044,\n",
       "       0.37699825])"
      ]
     },
     "execution_count": 50,
     "metadata": {},
     "output_type": "execute_result"
    }
   ],
   "source": [
    "probs"
   ]
  },
  {
   "cell_type": "code",
   "execution_count": 52,
   "metadata": {},
   "outputs": [],
   "source": [
    "import pickle"
   ]
  },
  {
   "cell_type": "code",
   "execution_count": 53,
   "metadata": {},
   "outputs": [],
   "source": [
    "filename = 'trained.sav'\n",
    "pickle.dump(model3,open(filename,'wb'))"
   ]
  },
  {
   "cell_type": "code",
   "execution_count": 54,
   "metadata": {},
   "outputs": [],
   "source": [
    "df = pd.read_csv('final.csv')"
   ]
  },
  {
   "cell_type": "code",
   "execution_count": 56,
   "metadata": {},
   "outputs": [],
   "source": [
    "df['Adherence Probability'] = probs"
   ]
  },
  {
   "cell_type": "code",
   "execution_count": 58,
   "metadata": {},
   "outputs": [],
   "source": [
    "df.to_csv('final.csv')"
   ]
  },
  {
   "cell_type": "code",
   "execution_count": 60,
   "metadata": {},
   "outputs": [],
   "source": [
    "df1.to_csv('final_XY.csv')"
   ]
  },
  {
   "cell_type": "code",
   "execution_count": 61,
   "metadata": {},
   "outputs": [
    {
     "name": "stdout",
     "output_type": "stream",
     "text": [
      "33\n"
     ]
    }
   ],
   "source": [
    "print(0xA + 0xB + 0xC)"
   ]
  },
  {
   "cell_type": "code",
   "execution_count": 72,
   "metadata": {},
   "outputs": [],
   "source": [
    "a = np.zeros((5,3),dtype = int)\n",
    "b = np.ones((2,4),dtype = int)"
   ]
  },
  {
   "cell_type": "code",
   "execution_count": 74,
   "metadata": {},
   "outputs": [
    {
     "data": {
      "text/plain": [
       "(2, 4, 3)"
      ]
     },
     "execution_count": 74,
     "metadata": {},
     "output_type": "execute_result"
    }
   ],
   "source": [
    "a[b].shape"
   ]
  },
  {
   "cell_type": "code",
   "execution_count": 75,
   "metadata": {},
   "outputs": [
    {
     "data": {
      "text/plain": [
       "False"
      ]
     },
     "execution_count": 75,
     "metadata": {},
     "output_type": "execute_result"
    }
   ],
   "source": [
    "'2'==2"
   ]
  },
  {
   "cell_type": "code",
   "execution_count": null,
   "metadata": {},
   "outputs": [],
   "source": []
  }
 ],
 "metadata": {
  "interpreter": {
   "hash": "916dbcbb3f70747c44a77c7bcd40155683ae19c65e1c03b4aa3499c5328201f1"
  },
  "kernelspec": {
   "display_name": "Python 3.8.10 64-bit",
   "language": "python",
   "name": "python3"
  },
  "language_info": {
   "codemirror_mode": {
    "name": "ipython",
    "version": 3
   },
   "file_extension": ".py",
   "mimetype": "text/x-python",
   "name": "python",
   "nbconvert_exporter": "python",
   "pygments_lexer": "ipython3",
   "version": "3.8.10"
  },
  "orig_nbformat": 4
 },
 "nbformat": 4,
 "nbformat_minor": 2
}
